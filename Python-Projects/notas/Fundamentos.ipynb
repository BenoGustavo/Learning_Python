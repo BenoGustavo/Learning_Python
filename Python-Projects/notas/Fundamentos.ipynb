{
 "cells": [
  {
   "cell_type": "markdown",
   "id": "20a17981",
   "metadata": {},
   "source": [
    "# Primeiros Exemplos"
   ]
  },
  {
   "cell_type": "code",
   "execution_count": 2,
   "id": "d31eb47c",
   "metadata": {},
   "outputs": [
    {
     "name": "stdout",
     "output_type": "stream",
     "text": [
      "Primeiro programa\n"
     ]
    },
    {
     "data": {
      "text/plain": [
       "3"
      ]
     },
     "execution_count": 2,
     "metadata": {},
     "output_type": "execute_result"
    }
   ],
   "source": [
    "print('Primeiro programa')\n",
    "1 \\\n",
    "+2"
   ]
  },
  {
   "cell_type": "code",
   "execution_count": 4,
   "id": "7f1a36c0",
   "metadata": {},
   "outputs": [
    {
     "name": "stdout",
     "output_type": "stream",
     "text": [
      "6\n"
     ]
    },
    {
     "data": {
      "text/plain": [
       "15"
      ]
     },
     "execution_count": 4,
     "metadata": {},
     "output_type": "execute_result"
    }
   ],
   "source": [
    "print(1 + 2 + 3)\n",
    "4+5+6"
   ]
  },
  {
   "cell_type": "code",
   "execution_count": 5,
   "id": "8a0f40c8",
   "metadata": {},
   "outputs": [
    {
     "data": {
      "text/plain": [
       "15"
      ]
     },
     "execution_count": 5,
     "metadata": {},
     "output_type": "execute_result"
    }
   ],
   "source": [
    "1 + 2 + 3\n",
    "4 + 5 + 6"
   ]
  },
  {
   "cell_type": "markdown",
   "id": "c542407a",
   "metadata": {},
   "source": [
    "## Tipos Básicos"
   ]
  },
  {
   "cell_type": "code",
   "execution_count": 11,
   "id": "a3cb8994",
   "metadata": {},
   "outputs": [
    {
     "name": "stdout",
     "output_type": "stream",
     "text": [
      "True\n",
      "False\n",
      "2.2\n",
      "Lingua humana poggers\n",
      "você é muito  muito  muito  Legal! \n",
      "[2, 3, 4]\n",
      "{'nome': 'Pedro', 'idade': 22}\n"
     ]
    }
   ],
   "source": [
    "print(True)\n",
    "print(False)\n",
    "print(1.2 + 1)\n",
    "print('Lingua humana poggers')\n",
    "print(\"você é\" + 3 * \" muito \" + \" Legal! \")\n",
    "#print(3 + 'a') -> confuso\n",
    "print([2,3,4])\n",
    "print({\"nome\": \"Pedro\" ,\"idade\": 22})\n",
    "print(None)"
   ]
  },
  {
   "cell_type": "markdown",
   "id": "2ba9c4f2",
   "metadata": {},
   "source": [
    "# Variáveis"
   ]
  },
  {
   "cell_type": "code",
   "execution_count": 13,
   "id": "ce38a2e4",
   "metadata": {},
   "outputs": [
    {
     "name": "stdout",
     "output_type": "stream",
     "text": [
      "15.2\n",
      "Agora sou uma string!\n"
     ]
    }
   ],
   "source": [
    "a = 10\n",
    "b = 5.2\n",
    "\n",
    "print(a+b)\n",
    "\n",
    "a = 'Agora sou uma string!'\n",
    "print(a)"
   ]
  },
  {
   "cell_type": "markdown",
   "id": "84faec06",
   "metadata": {},
   "source": [
    "# Comentários"
   ]
  },
  {
   "cell_type": "code",
   "execution_count": 14,
   "id": "51bc0d29",
   "metadata": {},
   "outputs": [
    {
     "name": "stdout",
     "output_type": "stream",
     "text": [
      "994.25\n",
      "fim de verdade\n"
     ]
    }
   ],
   "source": [
    "#Minhas variaveis\n",
    "salario = 3450.45\n",
    "despesas = 2456.2\n",
    "\n",
    "\"\"\"\n",
    "A ideia é calcular quanto vai sobrar ao final do mês\n",
    "\"\"\"\n",
    "print(salario - despesas)\n",
    "\n",
    "#print('Fim')\n",
    "print('fim de verdade') #comentario poggers ao lado"
   ]
  },
  {
   "cell_type": "markdown",
   "id": "f2833d42",
   "metadata": {},
   "source": [
    "# Operadores Aritmeticos"
   ]
  },
  {
   "cell_type": "code",
   "execution_count": 18,
   "id": "423eeb29",
   "metadata": {},
   "outputs": [
    {
     "name": "stdout",
     "output_type": "stream",
     "text": [
      "5\n",
      "20\n",
      "27.5\n",
      "3.0\n",
      "81\n",
      "0\n",
      "1\n"
     ]
    }
   ],
   "source": [
    "print(2 + 3)\n",
    "print(25-5)\n",
    "print(5*5.5)\n",
    "print(9.4 // 3) #// arredonda o número para inteiro, enquanto / comum deixa exato.\n",
    "print(3 ** 4) #elevação do número ao uma potencia\n",
    "\n",
    "print(10 % 2)#mostra o resto de uma divião\n",
    "print(11 % 2)"
   ]
  },
  {
   "cell_type": "markdown",
   "id": "57eec22b",
   "metadata": {},
   "source": [
    "# Desafio de Operadores Aritimeticos"
   ]
  },
  {
   "cell_type": "code",
   "execution_count": 25,
   "id": "bce6140d",
   "metadata": {},
   "outputs": [
    {
     "name": "stdout",
     "output_type": "stream",
     "text": [
      "71.0\n"
     ]
    }
   ],
   "source": [
    "#Minhas variaveis\n",
    "salario = 3450.45\n",
    "despesas = 2456.2\n",
    "lucro = salario - despesas\n",
    "\n",
    "porcentagemDoSalario = (despesas*100) // salario\n",
    "\n",
    "print(porcentagemDoSalario)\n"
   ]
  },
  {
   "cell_type": "markdown",
   "id": "91b8d142",
   "metadata": {},
   "source": [
    "# Operadores Relacionais"
   ]
  },
  {
   "cell_type": "markdown",
   "id": "8c81c9f3",
   "metadata": {},
   "source": [
    "### >  < #Maior que / Menor que\n",
    ">= <= #Maior ou igual que / Menor ou igual que\n",
    "!= #Diferente1\n",
    "== #Igual\n",
    "2 == '2' #No python a variavel também interfere."
   ]
  },
  {
   "cell_type": "markdown",
   "id": "4cdf7489",
   "metadata": {},
   "source": [
    "# Operadores Logicos"
   ]
  },
  {
   "cell_type": "code",
   "execution_count": null,
   "id": "2ae2676e",
   "metadata": {},
   "outputs": [],
   "source": [
    "True and False\n",
    "True or False\n",
    "True != False"
   ]
  },
  {
   "cell_type": "markdown",
   "id": "84c0baa9",
   "metadata": {},
   "source": [
    "# Desafio Operadores logicos"
   ]
  },
  {
   "cell_type": "code",
   "execution_count": 31,
   "id": "bed9c3dc",
   "metadata": {},
   "outputs": [
    {
     "name": "stdout",
     "output_type": "stream",
     "text": [
      "tv_50 False / sorvete False / tv_32 False / mais_saudavel True\n"
     ]
    }
   ],
   "source": [
    "Trabalho_Terca = False\n",
    "Trabalho_Quinta = False\n",
    "\n",
    "tv_50 = Trabalho_Terca and Trabalho_Quinta\n",
    "sorvete = Trabalho_Terca or Trabalho_Quinta\n",
    "tv_32 = Trabalho_Terca != Trabalho_Quinta\n",
    "mais_saudavel = not sorvete\n",
    "\n",
    "print(\"tv_50 {} / sorvete {} / tv_32 {} / mais_saudavel {}\".format(tv_50, sorvete ,tv_32 ,mais_saudavel))\n",
    "#format coloca valores de variaveis dentro de {}"
   ]
  },
  {
   "cell_type": "markdown",
   "id": "0556b917",
   "metadata": {},
   "source": [
    "# Operadores Unitarios"
   ]
  },
  {
   "cell_type": "code",
   "execution_count": 43,
   "id": "d84b213e",
   "metadata": {},
   "outputs": [
    {
     "name": "stdout",
     "output_type": "stream",
     "text": [
      "0\n"
     ]
    },
    {
     "data": {
      "text/plain": [
       "True"
      ]
     },
     "execution_count": 43,
     "metadata": {},
     "output_type": "execute_result"
    }
   ],
   "source": [
    "a = 0\n",
    "# a++, a-- não existe\n",
    "\n",
    "a += 1\n",
    "a -= 1\n",
    "-a #multiplica o valor por -1\n",
    "+a #multiplica o valor por 1\n",
    "\n",
    "print(a)\n",
    "\n",
    "not 0\n",
    "not 1\n",
    "not -2\n",
    "not False\n",
    "not not True"
   ]
  },
  {
   "cell_type": "markdown",
   "id": "cb75c19f",
   "metadata": {},
   "source": [
    "# Operadores Ternários"
   ]
  },
  {
   "cell_type": "code",
   "execution_count": 45,
   "id": "260a5960",
   "metadata": {},
   "outputs": [
    {
     "name": "stdout",
     "output_type": "stream",
     "text": [
      "Hoje estou com as roupas Molhadas\n",
      "Hoje estou com as roupasMolhadas.\n"
     ]
    }
   ],
   "source": [
    "esta_chuvendo = True\n",
    "print('Hoje estou com as roupas' + ('secas.',' Molhadas')[esta_chuvendo])\n",
    "print('Hoje estou com as roupas' + (' Molhadas.' if esta_chuvendo else ' secas'))"
   ]
  },
  {
   "cell_type": "markdown",
   "id": "87843cf3",
   "metadata": {},
   "source": [
    "# Mais Operadores"
   ]
  },
  {
   "cell_type": "code",
   "execution_count": 5,
   "id": "4ce13387",
   "metadata": {},
   "outputs": [
    {
     "data": {
      "text/plain": [
       "False"
      ]
     },
     "execution_count": 5,
     "metadata": {},
     "output_type": "execute_result"
    }
   ],
   "source": [
    "#Operador de membro\n",
    "lista = [1,2,3,'Ana','Carla']\n",
    "2 in lista\n",
    "'Ana' not in lista\n",
    "\n",
    "#Operador de identidade\n",
    "x = 3\n",
    "y = x\n",
    "z = 3\n",
    "x is y\n",
    "y is z\n",
    "x is not z\n",
    "\n",
    "lista_a = [1,2,3]\n",
    "lista_b = lista_a\n",
    "lista_c = [1,2,3]\n",
    "\n",
    "lista_a is lista_b\n",
    "lista_b is lista_c\n",
    "lista_a is not lista_c\n",
    "\n",
    "#Tabelas funcionam diferente de num int"
   ]
  },
  {
   "cell_type": "markdown",
   "id": "155c8dd7",
   "metadata": {},
   "source": [
    "# Builtins"
   ]
  },
  {
   "cell_type": "code",
   "execution_count": 9,
   "id": "3e5e9770",
   "metadata": {},
   "outputs": [
    {
     "name": "stdout",
     "output_type": "stream",
     "text": [
      "3.3333333333333335\n"
     ]
    }
   ],
   "source": [
    "#type()\n",
    "type(1) #isso da int\n",
    "__builtin__.type(\"Forma completa do builtin\")\n",
    "__builtin__.print(10 / 3)\n",
    "\n"
   ]
  },
  {
   "cell_type": "markdown",
   "id": "0c028c6d",
   "metadata": {},
   "source": [
    "# Conversão de Tipos"
   ]
  },
  {
   "cell_type": "code",
   "execution_count": 13,
   "id": "f26f3a0d",
   "metadata": {},
   "outputs": [
    {
     "name": "stdout",
     "output_type": "stream",
     "text": [
      "<class 'int'>\n",
      "<class 'str'>\n",
      "5\n",
      "23\n"
     ]
    }
   ],
   "source": [
    "2 + 3 #Soma dos valores inteiros\n",
    "'2' + '3' #Concat das strings\n",
    "\n",
    "#2 + '3' #Invalido por conta que a soma de uma int em uma string é impossivel\n",
    "\n",
    "a = 2\n",
    "b = '3'\n",
    "\n",
    "print(type(a))\n",
    "print(type(b)) #Mostrando a variavel\n",
    "\n",
    "print(a + int(b)) #Conversão de string para inteiro, caso o valor tenha virgula usar float\n",
    "print(str(a) + b) #Conversão de inteiro para string\n",
    "\n",
    "a = 1 #Convertendo inteiros para verdadeiro e falso\n",
    "b = 0\n",
    "type(bool(a))\n",
    "print(bool(a))\n",
    "\n",
    "type(bool(b))\n",
    "print(bool(b))"
   ]
  },
  {
   "cell_type": "markdown",
   "id": "17bf66e8",
   "metadata": {},
   "source": [
    "# Coerção Automática"
   ]
  },
  {
   "cell_type": "code",
   "execution_count": 25,
   "id": "cda15c91",
   "metadata": {},
   "outputs": [
    {
     "name": "stdout",
     "output_type": "stream",
     "text": [
      "<class 'float'> 5.0\n",
      "<class 'int'> 3\n",
      "<class 'float'> 3.0\n",
      "3\n",
      "2\n"
     ]
    }
   ],
   "source": [
    "print(type(10/2), 10/2 ) #mesmo o resultado sendo inteiro a variavel utilizada é float por conta da \"/\"\n",
    "print(type(10//3), 10//3 ) #se as barras forem duplas '//', enquanto o resultado será forçado em int\n",
    "print(type(10//3.3), 10 // 3.3 ) #exemplo de forçamento do int\n",
    "\n",
    "print(2 + True ) #True tem o valor de 1\n",
    "print(2 + False ) #False vale 0"
   ]
  },
  {
   "cell_type": "markdown",
   "id": "c8555549",
   "metadata": {},
   "source": [
    "# Decimal and Getcontext"
   ]
  },
  {
   "cell_type": "code",
   "execution_count": null,
   "id": "05af5a5c",
   "metadata": {},
   "outputs": [],
   "source": [
    "from decimal import Decimal, getcontext\n",
    "Decimal(1) / Decimal(7)  #Modo mais preciso de se obter resultados matematicos decimais\n",
    "\n",
    "getcontext().prec = 4  #Precisão, quantidade de casas decimais\n",
    "Decimal(1) / Decimal(7)\n",
    "Decimal.max(Decimal(1), Decimal(7))\n",
    "\n",
    "1.1 + 2.2 #Forma menos precisa de se realisar calculos\n",
    "\n",
    "getcontext().prec = 10\n",
    "Decimal(1.1) + Decimal(2.2)"
   ]
  },
  {
   "cell_type": "markdown",
   "id": "2b7a0a5e",
   "metadata": {},
   "source": [
    "# String"
   ]
  },
  {
   "cell_type": "code",
   "execution_count": 22,
   "id": "f9647b81",
   "metadata": {},
   "outputs": [
    {
     "name": "stdout",
     "output_type": "stream",
     "text": [
      "Dentro desse texto pode ser utilizado \"aspas\"\n",
      "\n",
      "\n",
      "Texto com várias\n",
      "... Linhas (Com aspas tripla)\n",
      "\n",
      "\n",
      "Também é possivel utilizar o \n",
      " ... linha (Pulando linha com \"\\n\")\n"
     ]
    }
   ],
   "source": [
    "dir(str)\n",
    "nome = 'Gustavo Leandro'\n",
    "nome[0] #Acessando letra através do Indice\n",
    "\n",
    "#nome[0] = 'P' #Tentativa de mudança da primeira letra, porém, ée impossivel pois STRINGS SÃO IMUTAVEIS\n",
    "\n",
    "\"Dias D'Avila\" == 'Dias D\\'Avila' #Diferentes formas de se utilizar aspas dentro de uma string\n",
    "\n",
    "texto = 'Dentro desse texto pode ser utilizado \"aspas\"\\n\\n'\n",
    "print(texto)\n",
    "\n",
    "#Formas de pular linhas\n",
    "\n",
    "doc = \"\"\"Texto com várias\n",
    "... Linhas (Com aspas tripla)\n",
    "\n",
    "\"\"\"\n",
    "\n",
    "print(doc)\n",
    "\n",
    "print('Também é possivel utilizar o \\n ... linha (Pulando linha com \"\\\\n\")')"
   ]
  },
  {
   "cell_type": "markdown",
   "id": "0ea8ebe6",
   "metadata": {},
   "source": [
    "# String 2"
   ]
  },
  {
   "cell_type": "code",
   "execution_count": 35,
   "id": "f60aea9f",
   "metadata": {},
   "outputs": [
    {
     "data": {
      "text/plain": [
       "'aluaP anA'"
      ]
     },
     "execution_count": 35,
     "metadata": {},
     "output_type": "execute_result"
    }
   ],
   "source": [
    "nome = 'Ana Paula'\n",
    "\n",
    "nome[0] #Mostrando o indice 0 da string ou 'A'\n",
    "\n",
    "nome[6] #Mostrando o indice 6 da string ou 'a', espaços contam\n",
    "\n",
    "nome[-3] #Mostrando o indice -3, ou seja de trás para frente, 'a'\n",
    "\n",
    "nome[4:] #Mostrando da quarta letra em diante\n",
    "\n",
    "nome[-5:] #Mostrando da Quinta de trás para frente em diante\n",
    "\n",
    "nome[:3]\n",
    "\n",
    "nome[2:5] #Mostrando dentro de um intervalo\n",
    "\n",
    "numeros = '123456789'\n",
    "numeros\n",
    "numeros[::]  #mostra todos os valores\n",
    "numeros[::2] #Pulando de 2 em 2\n",
    "numeros[1::2] #Começa do 1 e vai de 2 em 2\n",
    "numeros[::-1] #Mostra ao contrario 98765...\n",
    "\n",
    "nome[::-1] #aluaP anA"
   ]
  },
  {
   "cell_type": "markdown",
   "id": "b6755fd2",
   "metadata": {},
   "source": [
    "# String 3"
   ]
  },
  {
   "cell_type": "code",
   "execution_count": 51,
   "id": "1d25c6d6",
   "metadata": {},
   "outputs": [
    {
     "name": "stdout",
     "output_type": "stream",
     "text": [
      "python é bem melhor que java disparado\n",
      "\n",
      "\n",
      "PYTHON É BEM MELHOR QUE JAVA DISPARADO\n",
      "\n",
      "\n",
      "['Python', 'é', 'bem', 'melhor', 'que', 'java', 'disparado']\n",
      "\n",
      "\n",
      "\n",
      "['Pyth', 'n é bem melh', 'r que java disparad', '']\n"
     ]
    }
   ],
   "source": [
    "frase = 'Python é bem melhor que java disparado'\n",
    "'py' in frase #Resultado falso por conta da sensibilidade de letras\n",
    "'bem' in frase #vendo se existe 'bem' dentro de frase\n",
    "len(frase) #descobrindo a quantidade de caracteres de uma frase\n",
    "\n",
    "print(frase.lower()+ '\\n\\n') #deixa tudo minusculo\n",
    "\n",
    "print(frase.upper()+ '\\n\\n') #deixa tudo grandao\n",
    "\n",
    "print(frase.split()) #Corta a frase por espaço\n",
    "print('\\n\\n')\n",
    "\n",
    "print(frase.split('o')) #Corta a frase"
   ]
  },
  {
   "cell_type": "markdown",
   "id": "af6ddc19",
   "metadata": {},
   "source": [
    "# Lista"
   ]
  },
  {
   "cell_type": "code",
   "execution_count": 15,
   "id": "960436fb",
   "metadata": {},
   "outputs": [
    {
     "name": "stdout",
     "output_type": "stream",
     "text": [
      "[1, 'Ana', 'Bia']\n"
     ]
    },
    {
     "data": {
      "text/plain": [
       "['Bia', 'Ana', 1]"
      ]
     },
     "execution_count": 15,
     "metadata": {},
     "output_type": "execute_result"
    }
   ],
   "source": [
    "lista = []\n",
    "type(lista)\n",
    "dir(lista)\n",
    "len(lista)\n",
    "lista.append(1) #Adicionar coisas a lista\n",
    "lista.append(5)\n",
    "lista\n",
    "len(lista)\n",
    "\n",
    "nova_lista = [1,5,'Ana','Bia'] #criando nova lista com coisas dentro, tendo cada coisa seu respectivo indice\n",
    "nova_lista\n",
    "nova_lista.remove(5) #removendo coisas da lista\n",
    "print(nova_lista)\n",
    "nova_lista.reverse() #Invertendo os valores dentro que existem em uma lista\n",
    "nova_lista"
   ]
  },
  {
   "cell_type": "markdown",
   "id": "0d91640a",
   "metadata": {},
   "source": [
    "# Lista 2"
   ]
  },
  {
   "cell_type": "code",
   "execution_count": 16,
   "id": "9a7b1dc4",
   "metadata": {},
   "outputs": [
    {
     "data": {
      "text/plain": [
       "3"
      ]
     },
     "execution_count": 16,
     "metadata": {},
     "output_type": "execute_result"
    }
   ],
   "source": [
    "lista = [1,5,'Rebeca','Guilherme',3.1416]\n",
    "lista.index('Guilherme') #Mostrar o indice onde se encontra tal coisa\n"
   ]
  },
  {
   "cell_type": "markdown",
   "id": "4d9e7415",
   "metadata": {},
   "source": [
    "# Lista 3"
   ]
  },
  {
   "cell_type": "code",
   "execution_count": 22,
   "id": "8f8cca89",
   "metadata": {},
   "outputs": [
    {
     "ename": "IndexError",
     "evalue": "list assignment index out of range",
     "output_type": "error",
     "traceback": [
      "\u001b[1;31m---------------------------------------------------------------------------\u001b[0m",
      "\u001b[1;31mIndexError\u001b[0m                                Traceback (most recent call last)",
      "\u001b[1;32m~\\AppData\\Local\\Temp\\ipykernel_1380\\56460739.py\u001b[0m in \u001b[0;36m<module>\u001b[1;34m\u001b[0m\n\u001b[0;32m      7\u001b[0m \u001b[0mlista\u001b[0m\u001b[1;33m[\u001b[0m\u001b[1;33m:\u001b[0m\u001b[1;33m:\u001b[0m\u001b[1;36m2\u001b[0m\u001b[1;33m]\u001b[0m\u001b[1;33m\u001b[0m\u001b[1;33m\u001b[0m\u001b[0m\n\u001b[0;32m      8\u001b[0m \u001b[0mlista\u001b[0m\u001b[1;33m[\u001b[0m\u001b[1;33m:\u001b[0m\u001b[1;33m:\u001b[0m\u001b[1;33m-\u001b[0m\u001b[1;36m1\u001b[0m\u001b[1;33m]\u001b[0m\u001b[1;33m\u001b[0m\u001b[1;33m\u001b[0m\u001b[0m\n\u001b[1;32m----> 9\u001b[1;33m \u001b[1;32mdel\u001b[0m \u001b[0mlista\u001b[0m\u001b[1;33m[\u001b[0m\u001b[1;36m2\u001b[0m\u001b[1;33m]\u001b[0m\u001b[1;33m\u001b[0m\u001b[1;33m\u001b[0m\u001b[0m\n\u001b[0m\u001b[0;32m     10\u001b[0m \u001b[0mlista\u001b[0m\u001b[1;33m\u001b[0m\u001b[1;33m\u001b[0m\u001b[0m\n",
      "\u001b[1;31mIndexError\u001b[0m: list assignment index out of range"
     ]
    }
   ],
   "source": [
    "Lista = ['Ana','Lia','Rui','Paulo','Dani']\n",
    "lista[1:3]\n",
    "lista[1:-1]\n",
    "lista[1:]\n",
    "lista[:-1]\n",
    "lista[:]\n",
    "lista[::2]\n",
    "lista[::-1]\n",
    "del lista[2]\n",
    "lista"
   ]
  },
  {
   "cell_type": "markdown",
   "id": "1b389ea0",
   "metadata": {},
   "source": [
    "# Tupla"
   ]
  },
  {
   "cell_type": "code",
   "execution_count": 23,
   "id": "d974bba3",
   "metadata": {},
   "outputs": [
    {
     "data": {
      "text/plain": [
       "1"
      ]
     },
     "execution_count": 23,
     "metadata": {},
     "output_type": "execute_result"
    }
   ],
   "source": [
    "tupla = tuple()\n",
    "tupla = ()\n",
    "type(tupla)\n",
    "tupla = ('Um',)\n",
    "type(tupla)\n",
    "tupla[0]\n",
    "\n",
    "core = (\"azul\",'verde','amarelo','vermelho')\n",
    "core[0]\n",
    "core[-1]\n",
    "core[1:]\n",
    "\n",
    "core.index('amarelo')\n",
    "core.count('azul')\n"
   ]
  },
  {
   "cell_type": "markdown",
   "id": "5c308c40",
   "metadata": {},
   "source": [
    "# Dicionário"
   ]
  },
  {
   "cell_type": "code",
   "execution_count": 25,
   "id": "71b75154",
   "metadata": {},
   "outputs": [
    {
     "ename": "KeyError",
     "evalue": "'idade'",
     "output_type": "error",
     "traceback": [
      "\u001b[1;31m---------------------------------------------------------------------------\u001b[0m",
      "\u001b[1;31mKeyError\u001b[0m                                  Traceback (most recent call last)",
      "\u001b[1;32m~\\AppData\\Local\\Temp\\ipykernel_1380\\2615051025.py\u001b[0m in \u001b[0;36m<module>\u001b[1;34m\u001b[0m\n\u001b[0;32m      5\u001b[0m \u001b[0mpessoa\u001b[0m\u001b[1;33m\u001b[0m\u001b[1;33m\u001b[0m\u001b[0m\n\u001b[0;32m      6\u001b[0m \u001b[0mpessoa\u001b[0m\u001b[1;33m[\u001b[0m\u001b[1;34m'Nome'\u001b[0m\u001b[1;33m]\u001b[0m\u001b[1;33m\u001b[0m\u001b[1;33m\u001b[0m\u001b[0m\n\u001b[1;32m----> 7\u001b[1;33m \u001b[0mpessoa\u001b[0m\u001b[1;33m[\u001b[0m\u001b[1;34m'idade'\u001b[0m\u001b[1;33m]\u001b[0m\u001b[1;33m\u001b[0m\u001b[1;33m\u001b[0m\u001b[0m\n\u001b[0m\u001b[0;32m      8\u001b[0m \u001b[0mpessoa\u001b[0m\u001b[1;33m[\u001b[0m\u001b[1;34m'cursos'\u001b[0m\u001b[1;33m]\u001b[0m\u001b[1;33m\u001b[0m\u001b[1;33m\u001b[0m\u001b[0m\n\u001b[0;32m      9\u001b[0m \u001b[0mpessoa\u001b[0m\u001b[1;33m[\u001b[0m\u001b[1;34m'cursos'\u001b[0m\u001b[1;33m]\u001b[0m\u001b[1;33m[\u001b[0m\u001b[1;36m1\u001b[0m\u001b[1;33m]\u001b[0m\u001b[1;33m\u001b[0m\u001b[1;33m\u001b[0m\u001b[0m\n",
      "\u001b[1;31mKeyError\u001b[0m: 'idade'"
     ]
    }
   ],
   "source": [
    "pessoa = {'Nome': 'Prof(a). Ana', 'Idade': 38,'Cursos': ['Inglês','Portugues']}\n",
    "type(pessoa) #dict\n",
    "len(pessoa)\n",
    "\n",
    "pessoa\n",
    "pessoa['Nome']\n",
    "pessoa['idade']\n",
    "pessoa['cursos']\n",
    "pessoa['cursos'][1]\n",
    "\n",
    "pessoa.key()\n",
    "pessoa.values()\n",
    "pessoa.items()\n",
    "pessoa.get('idade')\n",
    "pessoa.get('tags')"
   ]
  },
  {
   "cell_type": "code",
   "execution_count": 32,
   "id": "37f5f121",
   "metadata": {},
   "outputs": [
    {
     "data": {
      "text/plain": [
       "{}"
      ]
     },
     "execution_count": 32,
     "metadata": {},
     "output_type": "execute_result"
    }
   ],
   "source": [
    "pessoas = {'nome':'Prof. Roberto','Idade': 43, 'Cursos':['React','Python']}\n",
    "pessoas['Idade'] = 44\n",
    "pessoas['Cursos'].append('Angular') #Adiciona coisas dentro de uma lista que pode existir dentro de um dicionario\n",
    "\n",
    "pessoas.pop('Idade') #remove certo valor\n",
    "\n",
    "pessoas\n",
    "pessoas.update({'idade': 40,'Sexo': 'M'})\n",
    "pessoas\n",
    "\n",
    "del pessoas['Cursos'] #Também deleta coisas de dentro de um dicionario\n",
    "pessoas\n",
    "pessoas.clear() #Limpa tudo\n",
    "pessoas"
   ]
  },
  {
   "cell_type": "markdown",
   "id": "e12fd3a8",
   "metadata": {},
   "source": [
    "# Conjunto"
   ]
  },
  {
   "cell_type": "code",
   "execution_count": 34,
   "id": "df7821a9",
   "metadata": {},
   "outputs": [
    {
     "name": "stdout",
     "output_type": "stream",
     "text": [
      "{'r', 'o', 'd', 'c', 'e'}\n",
      "False True\n"
     ]
    }
   ],
   "source": [
    "a = {1,2,3}\n",
    "type(a) #set\n",
    "                    ##a[0] Não existe pois conjunto não aceita indices\n",
    "a = set('codder')   #Não aceita repetições por conta disso o d não ira repetir\n",
    "\n",
    "print(a) #Não são organizados apenas criados\n",
    "\n",
    "print(3 in a,4 not in a) #verificando o que existe dentro de um conjunto\n",
    "{1,2,3} == {3,2,1,3} #Verdadeiro levando em conta o tipo conjunto\n",
    "\n",
    "#Operações\n",
    "\n",
    "c1 = {1,2}\n",
    "c2 = {2,3}\n",
    "\n",
    "c1.union(c2) #Unindo conjuntos, porém, repetições não sao feitas\n",
    "\n",
    "c1.intersection(c2) #Mostra os valores em comum entre dois conjutnos\n",
    "\n",
    "c1.update(c2)\n",
    "\n",
    "c1\n",
    "c2 <= c1\n",
    "c1 >= c2\n",
    "\n",
    "{1,2,3} - {2}\n",
    "\n",
    "c1-c2"
   ]
  },
  {
   "cell_type": "markdown",
   "id": "03e6f131",
   "metadata": {},
   "source": [
    "# Interpolação"
   ]
  },
  {
   "cell_type": "code",
   "execution_count": 41,
   "id": "50b27c05",
   "metadata": {},
   "outputs": [
    {
     "name": "stdout",
     "output_type": "stream",
     "text": [
      "Nome:Ana , Idade: 30\n",
      "Nome:Ana , Idade: 30\n",
      "Nome:Ana , Idade: 30\n"
     ]
    }
   ],
   "source": [
    "nome, idade = 'Ana',30\n",
    "\n",
    "#Formatação de string\n",
    "\n",
    "#Mais antiga menos recomendada == C\n",
    "print('Nome:%s , Idade: %d' % (nome,idade))\n",
    "\n",
    "#Python <3.6\n",
    "print('Nome:{} , Idade: {}'.format(nome,idade))\n",
    "\n",
    "#Versão mais nova e compacta, f antes das aspas\n",
    "print(f'Nome:{nome} , Idade: {idade}')\n",
    "\n"
   ]
  },
  {
   "cell_type": "code",
   "execution_count": 43,
   "id": "c98dfadc",
   "metadata": {},
   "outputs": [
    {
     "name": "stdout",
     "output_type": "stream",
     "text": [
      "Help on module random:\n",
      "\n",
      "NAME\n",
      "    random - Random variable generators.\n",
      "\n",
      "MODULE REFERENCE\n",
      "    https://docs.python.org/3.9/library/random\n",
      "    \n",
      "    The following documentation is automatically generated from the Python\n",
      "    source files.  It may be incomplete, incorrect or include features that\n",
      "    are considered implementation detail and may vary between Python\n",
      "    implementations.  When in doubt, consult the module reference at the\n",
      "    location listed above.\n",
      "\n",
      "DESCRIPTION\n",
      "        bytes\n",
      "        -----\n",
      "               uniform bytes (values between 0 and 255)\n",
      "    \n",
      "        integers\n",
      "        --------\n",
      "               uniform within range\n",
      "    \n",
      "        sequences\n",
      "        ---------\n",
      "               pick random element\n",
      "               pick random sample\n",
      "               pick weighted random sample\n",
      "               generate random permutation\n",
      "    \n",
      "        distributions on the real line:\n",
      "        ------------------------------\n",
      "               uniform\n",
      "               triangular\n",
      "               normal (Gaussian)\n",
      "               lognormal\n",
      "               negative exponential\n",
      "               gamma\n",
      "               beta\n",
      "               pareto\n",
      "               Weibull\n",
      "    \n",
      "        distributions on the circle (angles 0 to 2pi)\n",
      "        ---------------------------------------------\n",
      "               circular uniform\n",
      "               von Mises\n",
      "    \n",
      "    General notes on the underlying Mersenne Twister core generator:\n",
      "    \n",
      "    * The period is 2**19937-1.\n",
      "    * It is one of the most extensively tested generators in existence.\n",
      "    * The random() method is implemented in C, executes in a single Python step,\n",
      "      and is, therefore, threadsafe.\n",
      "\n",
      "CLASSES\n",
      "    _random.Random(builtins.object)\n",
      "        Random\n",
      "            SystemRandom\n",
      "    \n",
      "    class Random(_random.Random)\n",
      "     |  Random(x=None)\n",
      "     |  \n",
      "     |  Random number generator base class used by bound module functions.\n",
      "     |  \n",
      "     |  Used to instantiate instances of Random to get generators that don't\n",
      "     |  share state.\n",
      "     |  \n",
      "     |  Class Random can also be subclassed if you want to use a different basic\n",
      "     |  generator of your own devising: in that case, override the following\n",
      "     |  methods:  random(), seed(), getstate(), and setstate().\n",
      "     |  Optionally, implement a getrandbits() method so that randrange()\n",
      "     |  can cover arbitrarily large ranges.\n",
      "     |  \n",
      "     |  Method resolution order:\n",
      "     |      Random\n",
      "     |      _random.Random\n",
      "     |      builtins.object\n",
      "     |  \n",
      "     |  Methods defined here:\n",
      "     |  \n",
      "     |  __getstate__(self)\n",
      "     |      # Issue 17489: Since __reduce__ was defined to fix #759889 this is no\n",
      "     |      # longer called; we leave it here because it has been here since random was\n",
      "     |      # rewritten back in 2001 and why risk breaking something.\n",
      "     |  \n",
      "     |  __init__(self, x=None)\n",
      "     |      Initialize an instance.\n",
      "     |      \n",
      "     |      Optional argument x controls seeding, as for Random.seed().\n",
      "     |  \n",
      "     |  __reduce__(self)\n",
      "     |      Helper for pickle.\n",
      "     |  \n",
      "     |  __setstate__(self, state)\n",
      "     |  \n",
      "     |  betavariate(self, alpha, beta)\n",
      "     |      Beta distribution.\n",
      "     |      \n",
      "     |      Conditions on the parameters are alpha > 0 and beta > 0.\n",
      "     |      Returned values range between 0 and 1.\n",
      "     |  \n",
      "     |  choice(self, seq)\n",
      "     |      Choose a random element from a non-empty sequence.\n",
      "     |  \n",
      "     |  choices(self, population, weights=None, *, cum_weights=None, k=1)\n",
      "     |      Return a k sized list of population elements chosen with replacement.\n",
      "     |      \n",
      "     |      If the relative weights or cumulative weights are not specified,\n",
      "     |      the selections are made with equal probability.\n",
      "     |  \n",
      "     |  expovariate(self, lambd)\n",
      "     |      Exponential distribution.\n",
      "     |      \n",
      "     |      lambd is 1.0 divided by the desired mean.  It should be\n",
      "     |      nonzero.  (The parameter would be called \"lambda\", but that is\n",
      "     |      a reserved word in Python.)  Returned values range from 0 to\n",
      "     |      positive infinity if lambd is positive, and from negative\n",
      "     |      infinity to 0 if lambd is negative.\n",
      "     |  \n",
      "     |  gammavariate(self, alpha, beta)\n",
      "     |      Gamma distribution.  Not the gamma function!\n",
      "     |      \n",
      "     |      Conditions on the parameters are alpha > 0 and beta > 0.\n",
      "     |      \n",
      "     |      The probability distribution function is:\n",
      "     |      \n",
      "     |                  x ** (alpha - 1) * math.exp(-x / beta)\n",
      "     |        pdf(x) =  --------------------------------------\n",
      "     |                    math.gamma(alpha) * beta ** alpha\n",
      "     |  \n",
      "     |  gauss(self, mu, sigma)\n",
      "     |      Gaussian distribution.\n",
      "     |      \n",
      "     |      mu is the mean, and sigma is the standard deviation.  This is\n",
      "     |      slightly faster than the normalvariate() function.\n",
      "     |      \n",
      "     |      Not thread-safe without a lock around calls.\n",
      "     |  \n",
      "     |  getstate(self)\n",
      "     |      Return internal state; can be passed to setstate() later.\n",
      "     |  \n",
      "     |  lognormvariate(self, mu, sigma)\n",
      "     |      Log normal distribution.\n",
      "     |      \n",
      "     |      If you take the natural logarithm of this distribution, you'll get a\n",
      "     |      normal distribution with mean mu and standard deviation sigma.\n",
      "     |      mu can have any value, and sigma must be greater than zero.\n",
      "     |  \n",
      "     |  normalvariate(self, mu, sigma)\n",
      "     |      Normal distribution.\n",
      "     |      \n",
      "     |      mu is the mean, and sigma is the standard deviation.\n",
      "     |  \n",
      "     |  paretovariate(self, alpha)\n",
      "     |      Pareto distribution.  alpha is the shape parameter.\n",
      "     |  \n",
      "     |  randbytes(self, n)\n",
      "     |      Generate n random bytes.\n",
      "     |  \n",
      "     |  randint(self, a, b)\n",
      "     |      Return random integer in range [a, b], including both end points.\n",
      "     |  \n",
      "     |  randrange(self, start, stop=None, step=1)\n",
      "     |      Choose a random item from range(start, stop[, step]).\n",
      "     |      \n",
      "     |      This fixes the problem with randint() which includes the\n",
      "     |      endpoint; in Python this is usually not what you want.\n",
      "     |  \n",
      "     |  sample(self, population, k, *, counts=None)\n",
      "     |      Chooses k unique random elements from a population sequence or set.\n",
      "     |      \n",
      "     |      Returns a new list containing elements from the population while\n",
      "     |      leaving the original population unchanged.  The resulting list is\n",
      "     |      in selection order so that all sub-slices will also be valid random\n",
      "     |      samples.  This allows raffle winners (the sample) to be partitioned\n",
      "     |      into grand prize and second place winners (the subslices).\n",
      "     |      \n",
      "     |      Members of the population need not be hashable or unique.  If the\n",
      "     |      population contains repeats, then each occurrence is a possible\n",
      "     |      selection in the sample.\n",
      "     |      \n",
      "     |      Repeated elements can be specified one at a time or with the optional\n",
      "     |      counts parameter.  For example:\n",
      "     |      \n",
      "     |          sample(['red', 'blue'], counts=[4, 2], k=5)\n",
      "     |      \n",
      "     |      is equivalent to:\n",
      "     |      \n",
      "     |          sample(['red', 'red', 'red', 'red', 'blue', 'blue'], k=5)\n",
      "     |      \n",
      "     |      To choose a sample from a range of integers, use range() for the\n",
      "     |      population argument.  This is especially fast and space efficient\n",
      "     |      for sampling from a large population:\n",
      "     |      \n",
      "     |          sample(range(10000000), 60)\n",
      "     |  \n",
      "     |  seed(self, a=None, version=2)\n",
      "     |      Initialize internal state from a seed.\n",
      "     |      \n",
      "     |      The only supported seed types are None, int, float,\n",
      "     |      str, bytes, and bytearray.\n",
      "     |      \n",
      "     |      None or no argument seeds from current time or from an operating\n",
      "     |      system specific randomness source if available.\n",
      "     |      \n",
      "     |      If *a* is an int, all bits are used.\n",
      "     |      \n",
      "     |      For version 2 (the default), all of the bits are used if *a* is a str,\n",
      "     |      bytes, or bytearray.  For version 1 (provided for reproducing random\n",
      "     |      sequences from older versions of Python), the algorithm for str and\n",
      "     |      bytes generates a narrower range of seeds.\n",
      "     |  \n",
      "     |  setstate(self, state)\n",
      "     |      Restore internal state from object returned by getstate().\n",
      "     |  \n",
      "     |  shuffle(self, x, random=None)\n",
      "     |      Shuffle list x in place, and return None.\n",
      "     |      \n",
      "     |      Optional argument random is a 0-argument function returning a\n",
      "     |      random float in [0.0, 1.0); if it is the default None, the\n",
      "     |      standard random.random will be used.\n",
      "     |  \n",
      "     |  triangular(self, low=0.0, high=1.0, mode=None)\n",
      "     |      Triangular distribution.\n",
      "     |      \n",
      "     |      Continuous distribution bounded by given lower and upper limits,\n",
      "     |      and having a given mode value in-between.\n",
      "     |      \n",
      "     |      http://en.wikipedia.org/wiki/Triangular_distribution\n",
      "     |  \n",
      "     |  uniform(self, a, b)\n",
      "     |      Get a random number in the range [a, b) or [a, b] depending on rounding.\n",
      "     |  \n",
      "     |  vonmisesvariate(self, mu, kappa)\n",
      "     |      Circular data distribution.\n",
      "     |      \n",
      "     |      mu is the mean angle, expressed in radians between 0 and 2*pi, and\n",
      "     |      kappa is the concentration parameter, which must be greater than or\n",
      "     |      equal to zero.  If kappa is equal to zero, this distribution reduces\n",
      "     |      to a uniform random angle over the range 0 to 2*pi.\n",
      "     |  \n",
      "     |  weibullvariate(self, alpha, beta)\n",
      "     |      Weibull distribution.\n",
      "     |      \n",
      "     |      alpha is the scale parameter and beta is the shape parameter.\n",
      "     |  \n",
      "     |  ----------------------------------------------------------------------\n",
      "     |  Class methods defined here:\n",
      "     |  \n",
      "     |  __init_subclass__(**kwargs) from builtins.type\n",
      "     |      Control how subclasses generate random integers.\n",
      "     |      \n",
      "     |      The algorithm a subclass can use depends on the random() and/or\n",
      "     |      getrandbits() implementation available to it and determines\n",
      "     |      whether it can generate random integers from arbitrarily large\n",
      "     |      ranges.\n",
      "     |  \n",
      "     |  ----------------------------------------------------------------------\n",
      "     |  Data descriptors defined here:\n",
      "     |  \n",
      "     |  __dict__\n",
      "     |      dictionary for instance variables (if defined)\n",
      "     |  \n",
      "     |  __weakref__\n",
      "     |      list of weak references to the object (if defined)\n",
      "     |  \n",
      "     |  ----------------------------------------------------------------------\n",
      "     |  Data and other attributes defined here:\n",
      "     |  \n",
      "     |  VERSION = 3\n",
      "     |  \n",
      "     |  ----------------------------------------------------------------------\n",
      "     |  Methods inherited from _random.Random:\n",
      "     |  \n",
      "     |  getrandbits(self, k, /)\n",
      "     |      getrandbits(k) -> x.  Generates an int with k random bits.\n",
      "     |  \n",
      "     |  random(self, /)\n",
      "     |      random() -> x in the interval [0, 1).\n",
      "     |  \n",
      "     |  ----------------------------------------------------------------------\n",
      "     |  Static methods inherited from _random.Random:\n",
      "     |  \n",
      "     |  __new__(*args, **kwargs) from builtins.type\n",
      "     |      Create and return a new object.  See help(type) for accurate signature.\n",
      "    \n",
      "    class SystemRandom(Random)\n",
      "     |  SystemRandom(x=None)\n",
      "     |  \n",
      "     |  Alternate random number generator using sources provided\n",
      "     |  by the operating system (such as /dev/urandom on Unix or\n",
      "     |  CryptGenRandom on Windows).\n",
      "     |  \n",
      "     |   Not available on all systems (see os.urandom() for details).\n",
      "     |  \n",
      "     |  Method resolution order:\n",
      "     |      SystemRandom\n",
      "     |      Random\n",
      "     |      _random.Random\n",
      "     |      builtins.object\n",
      "     |  \n",
      "     |  Methods defined here:\n",
      "     |  \n",
      "     |  getrandbits(self, k)\n",
      "     |      getrandbits(k) -> x.  Generates an int with k random bits.\n",
      "     |  \n",
      "     |  getstate = _notimplemented(self, *args, **kwds)\n",
      "     |  \n",
      "     |  randbytes(self, n)\n",
      "     |      Generate n random bytes.\n",
      "     |  \n",
      "     |  random(self)\n",
      "     |      Get the next random number in the range [0.0, 1.0).\n",
      "     |  \n",
      "     |  seed(self, *args, **kwds)\n",
      "     |      Stub method.  Not used for a system random number generator.\n",
      "     |  \n",
      "     |  setstate = _notimplemented(self, *args, **kwds)\n",
      "     |  \n",
      "     |  ----------------------------------------------------------------------\n",
      "     |  Methods inherited from Random:\n",
      "     |  \n",
      "     |  __getstate__(self)\n",
      "     |      # Issue 17489: Since __reduce__ was defined to fix #759889 this is no\n",
      "     |      # longer called; we leave it here because it has been here since random was\n",
      "     |      # rewritten back in 2001 and why risk breaking something.\n",
      "     |  \n",
      "     |  __init__(self, x=None)\n",
      "     |      Initialize an instance.\n",
      "     |      \n",
      "     |      Optional argument x controls seeding, as for Random.seed().\n",
      "     |  \n",
      "     |  __reduce__(self)\n",
      "     |      Helper for pickle.\n",
      "     |  \n",
      "     |  __setstate__(self, state)\n",
      "     |  \n",
      "     |  betavariate(self, alpha, beta)\n",
      "     |      Beta distribution.\n",
      "     |      \n",
      "     |      Conditions on the parameters are alpha > 0 and beta > 0.\n",
      "     |      Returned values range between 0 and 1.\n",
      "     |  \n",
      "     |  choice(self, seq)\n",
      "     |      Choose a random element from a non-empty sequence.\n",
      "     |  \n",
      "     |  choices(self, population, weights=None, *, cum_weights=None, k=1)\n",
      "     |      Return a k sized list of population elements chosen with replacement.\n",
      "     |      \n",
      "     |      If the relative weights or cumulative weights are not specified,\n",
      "     |      the selections are made with equal probability.\n",
      "     |  \n",
      "     |  expovariate(self, lambd)\n",
      "     |      Exponential distribution.\n",
      "     |      \n",
      "     |      lambd is 1.0 divided by the desired mean.  It should be\n",
      "     |      nonzero.  (The parameter would be called \"lambda\", but that is\n",
      "     |      a reserved word in Python.)  Returned values range from 0 to\n",
      "     |      positive infinity if lambd is positive, and from negative\n",
      "     |      infinity to 0 if lambd is negative.\n",
      "     |  \n",
      "     |  gammavariate(self, alpha, beta)\n",
      "     |      Gamma distribution.  Not the gamma function!\n",
      "     |      \n",
      "     |      Conditions on the parameters are alpha > 0 and beta > 0.\n",
      "     |      \n",
      "     |      The probability distribution function is:\n",
      "     |      \n",
      "     |                  x ** (alpha - 1) * math.exp(-x / beta)\n",
      "     |        pdf(x) =  --------------------------------------\n",
      "     |                    math.gamma(alpha) * beta ** alpha\n",
      "     |  \n",
      "     |  gauss(self, mu, sigma)\n",
      "     |      Gaussian distribution.\n",
      "     |      \n",
      "     |      mu is the mean, and sigma is the standard deviation.  This is\n",
      "     |      slightly faster than the normalvariate() function.\n",
      "     |      \n",
      "     |      Not thread-safe without a lock around calls.\n",
      "     |  \n",
      "     |  lognormvariate(self, mu, sigma)\n",
      "     |      Log normal distribution.\n",
      "     |      \n",
      "     |      If you take the natural logarithm of this distribution, you'll get a\n",
      "     |      normal distribution with mean mu and standard deviation sigma.\n",
      "     |      mu can have any value, and sigma must be greater than zero.\n",
      "     |  \n",
      "     |  normalvariate(self, mu, sigma)\n",
      "     |      Normal distribution.\n",
      "     |      \n",
      "     |      mu is the mean, and sigma is the standard deviation.\n",
      "     |  \n",
      "     |  paretovariate(self, alpha)\n",
      "     |      Pareto distribution.  alpha is the shape parameter.\n",
      "     |  \n",
      "     |  randint(self, a, b)\n",
      "     |      Return random integer in range [a, b], including both end points.\n",
      "     |  \n",
      "     |  randrange(self, start, stop=None, step=1)\n",
      "     |      Choose a random item from range(start, stop[, step]).\n",
      "     |      \n",
      "     |      This fixes the problem with randint() which includes the\n",
      "     |      endpoint; in Python this is usually not what you want.\n",
      "     |  \n",
      "     |  sample(self, population, k, *, counts=None)\n",
      "     |      Chooses k unique random elements from a population sequence or set.\n",
      "     |      \n",
      "     |      Returns a new list containing elements from the population while\n",
      "     |      leaving the original population unchanged.  The resulting list is\n",
      "     |      in selection order so that all sub-slices will also be valid random\n",
      "     |      samples.  This allows raffle winners (the sample) to be partitioned\n",
      "     |      into grand prize and second place winners (the subslices).\n",
      "     |      \n",
      "     |      Members of the population need not be hashable or unique.  If the\n",
      "     |      population contains repeats, then each occurrence is a possible\n",
      "     |      selection in the sample.\n",
      "     |      \n",
      "     |      Repeated elements can be specified one at a time or with the optional\n",
      "     |      counts parameter.  For example:\n",
      "     |      \n",
      "     |          sample(['red', 'blue'], counts=[4, 2], k=5)\n",
      "     |      \n",
      "     |      is equivalent to:\n",
      "     |      \n",
      "     |          sample(['red', 'red', 'red', 'red', 'blue', 'blue'], k=5)\n",
      "     |      \n",
      "     |      To choose a sample from a range of integers, use range() for the\n",
      "     |      population argument.  This is especially fast and space efficient\n",
      "     |      for sampling from a large population:\n",
      "     |      \n",
      "     |          sample(range(10000000), 60)\n",
      "     |  \n",
      "     |  shuffle(self, x, random=None)\n",
      "     |      Shuffle list x in place, and return None.\n",
      "     |      \n",
      "     |      Optional argument random is a 0-argument function returning a\n",
      "     |      random float in [0.0, 1.0); if it is the default None, the\n",
      "     |      standard random.random will be used.\n",
      "     |  \n",
      "     |  triangular(self, low=0.0, high=1.0, mode=None)\n",
      "     |      Triangular distribution.\n",
      "     |      \n",
      "     |      Continuous distribution bounded by given lower and upper limits,\n",
      "     |      and having a given mode value in-between.\n",
      "     |      \n",
      "     |      http://en.wikipedia.org/wiki/Triangular_distribution\n",
      "     |  \n",
      "     |  uniform(self, a, b)\n",
      "     |      Get a random number in the range [a, b) or [a, b] depending on rounding.\n",
      "     |  \n",
      "     |  vonmisesvariate(self, mu, kappa)\n",
      "     |      Circular data distribution.\n",
      "     |      \n",
      "     |      mu is the mean angle, expressed in radians between 0 and 2*pi, and\n",
      "     |      kappa is the concentration parameter, which must be greater than or\n",
      "     |      equal to zero.  If kappa is equal to zero, this distribution reduces\n",
      "     |      to a uniform random angle over the range 0 to 2*pi.\n",
      "     |  \n",
      "     |  weibullvariate(self, alpha, beta)\n",
      "     |      Weibull distribution.\n",
      "     |      \n",
      "     |      alpha is the scale parameter and beta is the shape parameter.\n",
      "     |  \n",
      "     |  ----------------------------------------------------------------------\n",
      "     |  Class methods inherited from Random:\n",
      "     |  \n",
      "     |  __init_subclass__(**kwargs) from builtins.type\n",
      "     |      Control how subclasses generate random integers.\n",
      "     |      \n",
      "     |      The algorithm a subclass can use depends on the random() and/or\n",
      "     |      getrandbits() implementation available to it and determines\n",
      "     |      whether it can generate random integers from arbitrarily large\n",
      "     |      ranges.\n",
      "     |  \n",
      "     |  ----------------------------------------------------------------------\n",
      "     |  Data descriptors inherited from Random:\n",
      "     |  \n",
      "     |  __dict__\n",
      "     |      dictionary for instance variables (if defined)\n",
      "     |  \n",
      "     |  __weakref__\n",
      "     |      list of weak references to the object (if defined)\n",
      "     |  \n",
      "     |  ----------------------------------------------------------------------\n",
      "     |  Data and other attributes inherited from Random:\n",
      "     |  \n",
      "     |  VERSION = 3\n",
      "     |  \n",
      "     |  ----------------------------------------------------------------------\n",
      "     |  Static methods inherited from _random.Random:\n",
      "     |  \n",
      "     |  __new__(*args, **kwargs) from builtins.type\n",
      "     |      Create and return a new object.  See help(type) for accurate signature.\n",
      "\n",
      "FUNCTIONS\n",
      "    betavariate(alpha, beta) method of Random instance\n",
      "        Beta distribution.\n",
      "        \n",
      "        Conditions on the parameters are alpha > 0 and beta > 0.\n",
      "        Returned values range between 0 and 1.\n",
      "    \n",
      "    choice(seq) method of Random instance\n",
      "        Choose a random element from a non-empty sequence.\n",
      "    \n",
      "    choices(population, weights=None, *, cum_weights=None, k=1) method of Random instance\n",
      "        Return a k sized list of population elements chosen with replacement.\n",
      "        \n",
      "        If the relative weights or cumulative weights are not specified,\n",
      "        the selections are made with equal probability.\n",
      "    \n",
      "    expovariate(lambd) method of Random instance\n",
      "        Exponential distribution.\n",
      "        \n",
      "        lambd is 1.0 divided by the desired mean.  It should be\n",
      "        nonzero.  (The parameter would be called \"lambda\", but that is\n",
      "        a reserved word in Python.)  Returned values range from 0 to\n",
      "        positive infinity if lambd is positive, and from negative\n",
      "        infinity to 0 if lambd is negative.\n",
      "    \n",
      "    gammavariate(alpha, beta) method of Random instance\n",
      "        Gamma distribution.  Not the gamma function!\n",
      "        \n",
      "        Conditions on the parameters are alpha > 0 and beta > 0.\n",
      "        \n",
      "        The probability distribution function is:\n",
      "        \n",
      "                    x ** (alpha - 1) * math.exp(-x / beta)\n",
      "          pdf(x) =  --------------------------------------\n",
      "                      math.gamma(alpha) * beta ** alpha\n",
      "    \n",
      "    gauss(mu, sigma) method of Random instance\n",
      "        Gaussian distribution.\n",
      "        \n",
      "        mu is the mean, and sigma is the standard deviation.  This is\n",
      "        slightly faster than the normalvariate() function.\n",
      "        \n",
      "        Not thread-safe without a lock around calls.\n",
      "    \n",
      "    getrandbits(k, /) method of Random instance\n",
      "        getrandbits(k) -> x.  Generates an int with k random bits.\n",
      "    \n",
      "    getstate() method of Random instance\n",
      "        Return internal state; can be passed to setstate() later.\n",
      "    \n",
      "    lognormvariate(mu, sigma) method of Random instance\n",
      "        Log normal distribution.\n",
      "        \n",
      "        If you take the natural logarithm of this distribution, you'll get a\n",
      "        normal distribution with mean mu and standard deviation sigma.\n",
      "        mu can have any value, and sigma must be greater than zero.\n",
      "    \n",
      "    normalvariate(mu, sigma) method of Random instance\n",
      "        Normal distribution.\n",
      "        \n",
      "        mu is the mean, and sigma is the standard deviation.\n",
      "    \n",
      "    paretovariate(alpha) method of Random instance\n",
      "        Pareto distribution.  alpha is the shape parameter.\n",
      "    \n",
      "    randbytes(n) method of Random instance\n",
      "        Generate n random bytes.\n",
      "    \n",
      "    randint(a, b) method of Random instance\n",
      "        Return random integer in range [a, b], including both end points.\n",
      "    \n",
      "    random() method of Random instance\n",
      "        random() -> x in the interval [0, 1).\n",
      "    \n",
      "    randrange(start, stop=None, step=1) method of Random instance\n",
      "        Choose a random item from range(start, stop[, step]).\n",
      "        \n",
      "        This fixes the problem with randint() which includes the\n",
      "        endpoint; in Python this is usually not what you want.\n",
      "    \n",
      "    sample(population, k, *, counts=None) method of Random instance\n",
      "        Chooses k unique random elements from a population sequence or set.\n",
      "        \n",
      "        Returns a new list containing elements from the population while\n",
      "        leaving the original population unchanged.  The resulting list is\n",
      "        in selection order so that all sub-slices will also be valid random\n",
      "        samples.  This allows raffle winners (the sample) to be partitioned\n",
      "        into grand prize and second place winners (the subslices).\n",
      "        \n",
      "        Members of the population need not be hashable or unique.  If the\n",
      "        population contains repeats, then each occurrence is a possible\n",
      "        selection in the sample.\n",
      "        \n",
      "        Repeated elements can be specified one at a time or with the optional\n",
      "        counts parameter.  For example:\n",
      "        \n",
      "            sample(['red', 'blue'], counts=[4, 2], k=5)\n",
      "        \n",
      "        is equivalent to:\n",
      "        \n",
      "            sample(['red', 'red', 'red', 'red', 'blue', 'blue'], k=5)\n",
      "        \n",
      "        To choose a sample from a range of integers, use range() for the\n",
      "        population argument.  This is especially fast and space efficient\n",
      "        for sampling from a large population:\n",
      "        \n",
      "            sample(range(10000000), 60)\n",
      "    \n",
      "    seed(a=None, version=2) method of Random instance\n",
      "        Initialize internal state from a seed.\n",
      "        \n",
      "        The only supported seed types are None, int, float,\n",
      "        str, bytes, and bytearray.\n",
      "        \n",
      "        None or no argument seeds from current time or from an operating\n",
      "        system specific randomness source if available.\n",
      "        \n",
      "        If *a* is an int, all bits are used.\n",
      "        \n",
      "        For version 2 (the default), all of the bits are used if *a* is a str,\n",
      "        bytes, or bytearray.  For version 1 (provided for reproducing random\n",
      "        sequences from older versions of Python), the algorithm for str and\n",
      "        bytes generates a narrower range of seeds.\n",
      "    \n",
      "    setstate(state) method of Random instance\n",
      "        Restore internal state from object returned by getstate().\n",
      "    \n",
      "    shuffle(x, random=None) method of Random instance\n",
      "        Shuffle list x in place, and return None.\n",
      "        \n",
      "        Optional argument random is a 0-argument function returning a\n",
      "        random float in [0.0, 1.0); if it is the default None, the\n",
      "        standard random.random will be used.\n",
      "    \n",
      "    triangular(low=0.0, high=1.0, mode=None) method of Random instance\n",
      "        Triangular distribution.\n",
      "        \n",
      "        Continuous distribution bounded by given lower and upper limits,\n",
      "        and having a given mode value in-between.\n",
      "        \n",
      "        http://en.wikipedia.org/wiki/Triangular_distribution\n",
      "    \n",
      "    uniform(a, b) method of Random instance\n",
      "        Get a random number in the range [a, b) or [a, b] depending on rounding.\n",
      "    \n",
      "    vonmisesvariate(mu, kappa) method of Random instance\n",
      "        Circular data distribution.\n",
      "        \n",
      "        mu is the mean angle, expressed in radians between 0 and 2*pi, and\n",
      "        kappa is the concentration parameter, which must be greater than or\n",
      "        equal to zero.  If kappa is equal to zero, this distribution reduces\n",
      "        to a uniform random angle over the range 0 to 2*pi.\n",
      "    \n",
      "    weibullvariate(alpha, beta) method of Random instance\n",
      "        Weibull distribution.\n",
      "        \n",
      "        alpha is the scale parameter and beta is the shape parameter.\n",
      "\n",
      "DATA\n",
      "    __all__ = ['Random', 'SystemRandom', 'betavariate', 'choice', 'choices...\n",
      "\n",
      "FILE\n",
      "    c:\\users\\benof\\anaconda3\\lib\\random.py\n",
      "\n",
      "\n"
     ]
    }
   ],
   "source": [
    "import random\n",
    "\n",
    "help(random)"
   ]
  },
  {
   "cell_type": "code",
   "execution_count": null,
   "id": "423518b6",
   "metadata": {},
   "outputs": [],
   "source": []
  }
 ],
 "metadata": {
  "kernelspec": {
   "display_name": "Python 3 (ipykernel)",
   "language": "python",
   "name": "python3"
  },
  "language_info": {
   "codemirror_mode": {
    "name": "ipython",
    "version": 3
   },
   "file_extension": ".py",
   "mimetype": "text/x-python",
   "name": "python",
   "nbconvert_exporter": "python",
   "pygments_lexer": "ipython3",
   "version": "3.9.13"
  }
 },
 "nbformat": 4,
 "nbformat_minor": 5
}
